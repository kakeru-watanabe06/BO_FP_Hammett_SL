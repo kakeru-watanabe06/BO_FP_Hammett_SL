{
 "cells": [
  {
   "cell_type": "markdown",
   "id": "9c14b8e1",
   "metadata": {},
   "source": [
    "# 1.獲得関数の定義"
   ]
  },
  {
   "cell_type": "code",
   "execution_count": 1,
   "id": "d7f6c2c2",
   "metadata": {},
   "outputs": [],
   "source": [
    "import numpy as np\n",
    "import pandas as pd\n",
    "from scipy.stats import ncx2\n",
    "\n",
    "def l2_lcb(means, vars_, target, beta=1.0, eps=1e-8):\n",
    "    k = means.shape[1]\n",
    "    gamma2 = np.maximum(vars_.mean(axis=1), eps)\n",
    "    diff2 = np.sum((means - target)**2, axis=1)\n",
    "    nc = diff2 / gamma2\n",
    "    r1 = k + nc\n",
    "    r2 = 2 * (k + 2 * nc)\n",
    "    r3 = 8 * (k + 3 * nc)\n",
    "    m = 1 - (r1 * r3) / (3 * r2**2)\n",
    "    alpha = 1 + m * (m - 1) * (r2 / (2 * r1**2) - (2 - m) * (1 - 3 * m) * r2**2 / (8 * r1**4))\n",
    "    rho = m * np.sqrt(r2) / r1 * (1 - (1 - m) * (1 - 3 * m) * r2 / (4 * r1**2))\n",
    "    root = (alpha - beta * rho)**(1. / m)\n",
    "    return -root * (k + nc) * gamma2\n",
    "\n",
    "def l2_ei(means, vars_, target, y_min, eps=1e-8):\n",
    "    k = means.shape[1]\n",
    "    gamma2 = np.maximum(vars_.mean(axis=1), eps)\n",
    "    diff2 = np.sum((means - target)**2, axis=1)\n",
    "    nc = diff2 / gamma2\n",
    "    x = y_min / gamma2\n",
    "    t1 = y_min * ncx2.cdf(x, df=k, nc=nc)\n",
    "    t2 = gamma2 * (k * ncx2.cdf(x, df=k+2, nc=nc) + nc * ncx2.cdf(x, df=k+4, nc=nc))\n",
    "    return np.maximum(0, t1 - t2)"
   ]
  },
  {
   "cell_type": "markdown",
   "id": "976c5fef",
   "metadata": {},
   "source": []
  }
 ],
 "metadata": {
  "kernelspec": {
   "display_name": "BO_test",
   "language": "python",
   "name": "python3"
  },
  "language_info": {
   "codemirror_mode": {
    "name": "ipython",
    "version": 3
   },
   "file_extension": ".py",
   "mimetype": "text/x-python",
   "name": "python",
   "nbconvert_exporter": "python",
   "pygments_lexer": "ipython3",
   "version": "3.8.20"
  }
 },
 "nbformat": 4,
 "nbformat_minor": 5
}
